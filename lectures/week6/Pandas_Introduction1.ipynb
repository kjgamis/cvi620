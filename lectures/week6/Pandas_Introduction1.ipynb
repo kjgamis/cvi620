{
 "cells": [
  {
   "cell_type": "markdown",
   "id": "7e44cadc",
   "metadata": {},
   "source": [
    "# Introduction to Pandas\n",
    "Pandas is a popular Python library for data analysis and manipulation. Pandas is an open-source library for working with tabular data (Excel, CSVs, SQL tables).\n",
    "\n",
    "It provides two main data structures:\n",
    "- Series: 1D labeled array\n",
    "- DataFrame: 2D labeled table (like a spreadsheet)"
   ]
  },
  {
   "cell_type": "markdown",
   "id": "c34d078c",
   "metadata": {},
   "source": [
    "### 1. Importing Pandas"
   ]
  },
  {
   "cell_type": "code",
   "execution_count": 1,
   "id": "0ff5f7aa",
   "metadata": {},
   "outputs": [],
   "source": [
    "import pandas as pd"
   ]
  },
  {
   "cell_type": "markdown",
   "id": "8439cf01",
   "metadata": {},
   "source": [
    "### 2. Creating a Series\n",
    "A Series is like a column in a table."
   ]
  },
  {
   "cell_type": "code",
   "execution_count": null,
   "id": "ac36babc",
   "metadata": {},
   "outputs": [],
   "source": [
    "data = [10, 20, 30, 40]\n",
    "s = pd.Series(data)\n",
    "print(s)"
   ]
  },
  {
   "cell_type": "markdown",
   "id": "67baafb6",
   "metadata": {},
   "source": [
    "## 3. Creating DataFrames\n",
    "\n",
    "A DataFrame is a 2-dimensional labeled data structure with columns that can be of different types. Let's create a simple DataFrame:"
   ]
  },
  {
   "cell_type": "code",
   "execution_count": null,
   "id": "bbf97c5e",
   "metadata": {},
   "outputs": [],
   "source": [
    "# Creating a DataFrame from a dictionary\n",
    "data = {\n",
    "    'Name': ['John', 'Anna', 'Peter', 'Linda'],\n",
    "    'Age': [28, 22, 35, 32],\n",
    "    'City': ['New York', 'Paris', 'Berlin', 'London']\n",
    "}\n",
    "\n",
    "df = pd.DataFrame(data)\n",
    "df"
   ]
  },
  {
   "cell_type": "markdown",
   "id": "cb9ebb72",
   "metadata": {},
   "source": [
    "## 4. Basic DataFrame Operations\n",
    "\n",
    "Let's explore some basic operations we can perform on our DataFrame:"
   ]
  },
  {
   "cell_type": "code",
   "execution_count": null,
   "id": "dea38461",
   "metadata": {},
   "outputs": [],
   "source": [
    "print(\"First 2 rows:\")\n",
    "print(df.head(2))\n",
    "\n",
    "print(\"\\nDataFrame Info:\")\n",
    "print(df.info())\n",
    "\n",
    "print(\"\\nStatistical Summary:\")\n",
    "print(df.describe())"
   ]
  },
  {
   "cell_type": "markdown",
   "id": "4f719420",
   "metadata": {},
   "source": [
    "## 5. Selecting Data\n",
    "\n",
    "There are several ways to select data from a DataFrame:"
   ]
  },
  {
   "cell_type": "code",
   "execution_count": null,
   "id": "1d6f6a2a",
   "metadata": {},
   "outputs": [],
   "source": [
    "#select a single column\n",
    "print(\"Names column:\")\n",
    "print(df['Name'])\n",
    "\n",
    "# Select multiple columns\n",
    "print(\"\\nName and Age columns:\")\n",
    "print(df[['Name', 'Age']])\n",
    "\n",
    "# select rows by index\n",
    "print(\"\\nFirst two rows:\")\n",
    "print(df.iloc[0:2])"
   ]
  },
  {
   "cell_type": "markdown",
   "id": "a360d05c",
   "metadata": {},
   "source": [
    "## 6. Filtering Data\n",
    "\n",
    "Let's learn how to filter data based on conditions:"
   ]
  },
  {
   "cell_type": "code",
   "execution_count": null,
   "id": "08028500",
   "metadata": {},
   "outputs": [],
   "source": [
    "#Filter people older than 30\n",
    "print(\"People older than 30:\")\n",
    "print(df[df['Age'] > 30])\n",
    "\n",
    "# filter by multiple conditions\n",
    "print(\"\\nPeople from New York or London:\")\n",
    "print(df[df['City'].isin(['New York', 'London'])])"
   ]
  },
  {
   "cell_type": "markdown",
   "id": "741016ad",
   "metadata": {},
   "source": [
    "## 6. Data Manipulation\n",
    "\n",
    "Let's see how we can modify our DataFrame:"
   ]
  },
  {
   "cell_type": "code",
   "execution_count": null,
   "id": "e88ecd67",
   "metadata": {},
   "outputs": [],
   "source": [
    "# new column adding\n",
    "df['Salary'] = [50000, 45000, 60000, 55000]\n",
    "print(\"DataFrame with new Salary column:\")\n",
    "print(df)\n",
    "\n",
    "#sort the DataFrame\n",
    "print(\"\\nSorted by Age:\")\n",
    "print(df.sort_values('Age'))"
   ]
  },
  {
   "cell_type": "markdown",
   "id": "2d8afff7",
   "metadata": {},
   "source": [
    "## 7. Reading and Writing Data\n",
    "\n",
    "Pandas can read and write data in various formats. Here's how to work with CSV files:"
   ]
  },
  {
   "cell_type": "code",
   "execution_count": null,
   "id": "2695c8cf",
   "metadata": {},
   "outputs": [],
   "source": [
    "#save our DataFrame to a CSV file\n",
    "df.to_csv('students.csv', index=False)\n",
    "\n",
    "# read the CSV file back\n",
    "df_read = pd.read_csv('students.csv')\n",
    "print(\"Data read from CSV:\")\n",
    "print(df_read)"
   ]
  },
  {
   "cell_type": "markdown",
   "id": "1d931eb0",
   "metadata": {},
   "source": [
    "Read more: https://pandas.pydata.org/docs/user_guide/10min.html"
   ]
  }
 ],
 "metadata": {
  "kernelspec": {
   "display_name": "Python venv_02",
   "language": "python",
   "name": "venv_02"
  },
  "language_info": {
   "codemirror_mode": {
    "name": "ipython",
    "version": 3
   },
   "file_extension": ".py",
   "mimetype": "text/x-python",
   "name": "python",
   "nbconvert_exporter": "python",
   "pygments_lexer": "ipython3",
   "version": "3.9.11"
  }
 },
 "nbformat": 4,
 "nbformat_minor": 5
}
