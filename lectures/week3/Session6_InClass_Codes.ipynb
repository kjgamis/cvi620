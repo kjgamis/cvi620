{
 "cells": [
  {
   "cell_type": "code",
   "execution_count": 1,
   "id": "ee59d285",
   "metadata": {},
   "outputs": [],
   "source": [
    "import cv2\n",
    "import numpy as np"
   ]
  },
  {
   "cell_type": "code",
   "execution_count": 26,
   "id": "4e9c9c6b",
   "metadata": {},
   "outputs": [
    {
     "data": {
      "text/plain": [
       "array([[24],\n",
       "       [ 1]])"
      ]
     },
     "execution_count": 26,
     "metadata": {},
     "output_type": "execute_result"
    }
   ],
   "source": [
    "m = np.array([[6, 0],\n",
    "              [0, 1]\n",
    "            ])\n",
    "\n",
    "\n",
    "a = np.array([[4],\n",
    "              [1]])\n",
    "\n",
    "m @ a"
   ]
  },
  {
   "cell_type": "code",
   "execution_count": 9,
   "id": "cbd6b74e",
   "metadata": {},
   "outputs": [],
   "source": [
    "img = cv2.imread(\"../S3/Lucy.jpg\")\n",
    "if img is None:\n",
    "    print(\"ERROR\")"
   ]
  },
  {
   "cell_type": "code",
   "execution_count": 12,
   "id": "a2a8856e",
   "metadata": {},
   "outputs": [],
   "source": [
    "w, h = img.shape[:2]\n",
    "center = (w//2, h//2)"
   ]
  },
  {
   "cell_type": "code",
   "execution_count": 19,
   "id": "74c16f69",
   "metadata": {},
   "outputs": [],
   "source": [
    "mtx = cv2.getRotationMatrix2D(center, 45, 0.5)"
   ]
  },
  {
   "cell_type": "code",
   "execution_count": 20,
   "id": "f4d3854e",
   "metadata": {},
   "outputs": [],
   "source": [
    "img3 = cv2.warpAffine(img, mtx, (w, h))\n",
    "cv2.imshow('frame', img3)\n",
    "cv2.waitKey(0)\n",
    "cv2.destroyAllWindows()"
   ]
  },
  {
   "cell_type": "code",
   "execution_count": 22,
   "id": "59334f5b",
   "metadata": {},
   "outputs": [],
   "source": [
    "shear_mtrix = np.array([[1, 0.2, 0],\n",
    "                        [0, 1, 0]], dtype=np.float32)\n",
    "sheared = cv2.warpAffine(img, shear_mtrix, (w+500, h+500))\n",
    "cv2.imshow('frame', sheared)\n",
    "cv2.waitKey(0)\n",
    "cv2.destroyAllWindows()"
   ]
  },
  {
   "cell_type": "code",
   "execution_count": null,
   "id": "8d62219c",
   "metadata": {},
   "outputs": [],
   "source": []
  }
 ],
 "metadata": {
  "kernelspec": {
   "display_name": "Python venv_02",
   "language": "python",
   "name": "venv_02"
  },
  "language_info": {
   "codemirror_mode": {
    "name": "ipython",
    "version": 3
   },
   "file_extension": ".py",
   "mimetype": "text/x-python",
   "name": "python",
   "nbconvert_exporter": "python",
   "pygments_lexer": "ipython3",
   "version": "3.9.11"
  }
 },
 "nbformat": 4,
 "nbformat_minor": 5
}
