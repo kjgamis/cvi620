{
 "cells": [
  {
   "cell_type": "code",
   "execution_count": 2,
   "id": "be469818",
   "metadata": {},
   "outputs": [],
   "source": [
    "import cv2\n",
    "import numpy as np"
   ]
  },
  {
   "cell_type": "code",
   "execution_count": 3,
   "id": "b72e4bf7",
   "metadata": {},
   "outputs": [],
   "source": [
    "img = cv2.imread('../S3/Lucy.jpg')\n",
    "cv2.imshow('frame', img)\n",
    "cv2.waitKey(0)\n",
    "cv2.destroyAllWindows()"
   ]
  },
  {
   "cell_type": "code",
   "execution_count": null,
   "id": "4ff5cd11",
   "metadata": {},
   "outputs": [],
   "source": [
    "brighter_img = cv2.add(img, np.ones(img.shape, dtype='uint8')*50)\n",
    "cv2.imshow('frame', brighter_img)\n",
    "cv2.waitKey(0)\n",
    "cv2.destroyAllWindows()"
   ]
  },
  {
   "cell_type": "code",
   "execution_count": 14,
   "id": "da147467",
   "metadata": {},
   "outputs": [
    {
     "data": {
      "text/plain": [
       "255"
      ]
     },
     "execution_count": 14,
     "metadata": {},
     "output_type": "execute_result"
    }
   ],
   "source": [
    "img.max()"
   ]
  },
  {
   "cell_type": "code",
   "execution_count": 15,
   "id": "50791ad8",
   "metadata": {},
   "outputs": [
    {
     "data": {
      "text/plain": [
       "255"
      ]
     },
     "execution_count": 15,
     "metadata": {},
     "output_type": "execute_result"
    }
   ],
   "source": [
    "brighter_img.max()"
   ]
  },
  {
   "cell_type": "code",
   "execution_count": null,
   "id": "f6f5b28a",
   "metadata": {},
   "outputs": [],
   "source": [
    "brighter_img2 = img + 50.0\n",
    "\n",
    "cv2.imshow('frame', brighter_img2)\n",
    "cv2.waitKey(0)\n",
    "cv2.destroyAllWindows()"
   ]
  },
  {
   "cell_type": "code",
   "execution_count": 18,
   "id": "4c913d3b",
   "metadata": {},
   "outputs": [
    {
     "data": {
      "text/plain": [
       "array([[[217, 218, 216],\n",
       "        [217, 218, 216],\n",
       "        [217, 218, 216],\n",
       "        ...,\n",
       "        [167, 173, 178],\n",
       "        [166, 172, 177],\n",
       "        [165, 171, 176]],\n",
       "\n",
       "       [[217, 218, 216],\n",
       "        [217, 218, 216],\n",
       "        [217, 218, 216],\n",
       "        ...,\n",
       "        [167, 173, 178],\n",
       "        [166, 172, 177],\n",
       "        [165, 171, 176]],\n",
       "\n",
       "       [[216, 217, 215],\n",
       "        [216, 217, 215],\n",
       "        [216, 217, 215],\n",
       "        ...,\n",
       "        [167, 173, 178],\n",
       "        [166, 172, 177],\n",
       "        [165, 171, 176]],\n",
       "\n",
       "       ...,\n",
       "\n",
       "       [[206, 210, 211],\n",
       "        [204, 208, 209],\n",
       "        [200, 204, 205],\n",
       "        ...,\n",
       "        [167, 173, 180],\n",
       "        [167, 173, 180],\n",
       "        [167, 173, 180]],\n",
       "\n",
       "       [[203, 207, 208],\n",
       "        [201, 205, 206],\n",
       "        [198, 202, 203],\n",
       "        ...,\n",
       "        [167, 173, 180],\n",
       "        [167, 173, 180],\n",
       "        [166, 172, 179]],\n",
       "\n",
       "       [[202, 206, 207],\n",
       "        [200, 204, 205],\n",
       "        [196, 200, 201],\n",
       "        ...,\n",
       "        [167, 173, 180],\n",
       "        [167, 173, 180],\n",
       "        [167, 173, 180]]], dtype=uint8)"
      ]
     },
     "execution_count": 18,
     "metadata": {},
     "output_type": "execute_result"
    }
   ],
   "source": [
    "img"
   ]
  },
  {
   "cell_type": "code",
   "execution_count": 17,
   "id": "9aca46f9",
   "metadata": {},
   "outputs": [
    {
     "data": {
      "text/plain": [
       "array([[[ 11,  12,  10],\n",
       "        [ 11,  12,  10],\n",
       "        [ 11,  12,  10],\n",
       "        ...,\n",
       "        [217, 223, 228],\n",
       "        [216, 222, 227],\n",
       "        [215, 221, 226]],\n",
       "\n",
       "       [[ 11,  12,  10],\n",
       "        [ 11,  12,  10],\n",
       "        [ 11,  12,  10],\n",
       "        ...,\n",
       "        [217, 223, 228],\n",
       "        [216, 222, 227],\n",
       "        [215, 221, 226]],\n",
       "\n",
       "       [[ 10,  11,   9],\n",
       "        [ 10,  11,   9],\n",
       "        [ 10,  11,   9],\n",
       "        ...,\n",
       "        [217, 223, 228],\n",
       "        [216, 222, 227],\n",
       "        [215, 221, 226]],\n",
       "\n",
       "       ...,\n",
       "\n",
       "       [[  0,   4,   5],\n",
       "        [254,   2,   3],\n",
       "        [250, 254, 255],\n",
       "        ...,\n",
       "        [217, 223, 230],\n",
       "        [217, 223, 230],\n",
       "        [217, 223, 230]],\n",
       "\n",
       "       [[253,   1,   2],\n",
       "        [251, 255,   0],\n",
       "        [248, 252, 253],\n",
       "        ...,\n",
       "        [217, 223, 230],\n",
       "        [217, 223, 230],\n",
       "        [216, 222, 229]],\n",
       "\n",
       "       [[252,   0,   1],\n",
       "        [250, 254, 255],\n",
       "        [246, 250, 251],\n",
       "        ...,\n",
       "        [217, 223, 230],\n",
       "        [217, 223, 230],\n",
       "        [217, 223, 230]]], dtype=uint8)"
      ]
     },
     "execution_count": 17,
     "metadata": {},
     "output_type": "execute_result"
    }
   ],
   "source": [
    "brighter_img2"
   ]
  },
  {
   "cell_type": "code",
   "execution_count": 22,
   "id": "9c690d4a",
   "metadata": {},
   "outputs": [],
   "source": [
    "darker = cv2.subtract(img, 100)\n",
    "cv2.imshow('frame', darker)\n",
    "cv2.waitKey(0)\n",
    "cv2.destroyAllWindows()"
   ]
  },
  {
   "cell_type": "code",
   "execution_count": 30,
   "id": "89f3c052",
   "metadata": {},
   "outputs": [],
   "source": [
    "contrast = cv2.divide(img, np.ones(img.shape, dtype='uint8'), scale=0.5)\n",
    "cv2.imshow('frame', contrast)\n",
    "cv2.waitKey(0)\n",
    "cv2.destroyAllWindows()"
   ]
  },
  {
   "cell_type": "code",
   "execution_count": 29,
   "id": "995629bc",
   "metadata": {},
   "outputs": [],
   "source": [
    "abs = cv2.convertScaleAbs(img, alpha=0.5, beta=-20)\n",
    "cv2.imshow('frame', abs)\n",
    "cv2.waitKey(0)\n",
    "cv2.destroyAllWindows()"
   ]
  },
  {
   "cell_type": "code",
   "execution_count": 51,
   "id": "2ab555dc",
   "metadata": {},
   "outputs": [],
   "source": [
    "_, thresh = cv2.threshold(img, 175, 255, cv2.THRESH_TOZERO)"
   ]
  },
  {
   "cell_type": "code",
   "execution_count": 52,
   "id": "af972ac2",
   "metadata": {},
   "outputs": [],
   "source": [
    "cv2.imshow('frame', thresh)\n",
    "cv2.waitKey(0)\n",
    "cv2.destroyAllWindows()"
   ]
  },
  {
   "cell_type": "code",
   "execution_count": null,
   "id": "d991f054",
   "metadata": {},
   "outputs": [
    {
     "ename": "error",
     "evalue": "OpenCV(4.10.0) :-1: error: (-5:Bad argument) in function 'imread'\n> Overload resolution failed:\n>  - imread() missing required argument 'filename' (pos 1)\n>  - imread() missing required argument 'filename' (pos 1)\n>  - imread() missing required argument 'filename' (pos 1)\n",
     "output_type": "error",
     "traceback": [
      "\u001b[1;31m---------------------------------------------------------------------------\u001b[0m",
      "\u001b[1;31merror\u001b[0m                                     Traceback (most recent call last)",
      "Cell \u001b[1;32mIn[53], line 2\u001b[0m\n\u001b[0;32m      1\u001b[0m img1 \u001b[38;5;241m=\u001b[39m cv2\u001b[38;5;241m.\u001b[39mimread(\u001b[38;5;124m'\u001b[39m\u001b[38;5;124mscream.png\u001b[39m\u001b[38;5;124m'\u001b[39m)\n\u001b[1;32m----> 2\u001b[0m img2 \u001b[38;5;241m=\u001b[39m \u001b[43mcv2\u001b[49m\u001b[38;5;241;43m.\u001b[39;49m\u001b[43mimread\u001b[49m\u001b[43m(\u001b[49m\u001b[43m)\u001b[49m\n",
      "\u001b[1;31merror\u001b[0m: OpenCV(4.10.0) :-1: error: (-5:Bad argument) in function 'imread'\n> Overload resolution failed:\n>  - imread() missing required argument 'filename' (pos 1)\n>  - imread() missing required argument 'filename' (pos 1)\n>  - imread() missing required argument 'filename' (pos 1)\n"
     ]
    }
   ],
   "source": [
    "img1 = cv2.imread('scream.png')\n",
    "img2 = cv2.imread('stary_night.png')"
   ]
  },
  {
   "cell_type": "code",
   "execution_count": null,
   "id": "7c11e4f2",
   "metadata": {},
   "outputs": [],
   "source": []
  }
 ],
 "metadata": {
  "kernelspec": {
   "display_name": "Python venv_02",
   "language": "python",
   "name": "venv_02"
  },
  "language_info": {
   "codemirror_mode": {
    "name": "ipython",
    "version": 3
   },
   "file_extension": ".py",
   "mimetype": "text/x-python",
   "name": "python",
   "nbconvert_exporter": "python",
   "pygments_lexer": "ipython3",
   "version": "3.9.11"
  }
 },
 "nbformat": 4,
 "nbformat_minor": 5
}
