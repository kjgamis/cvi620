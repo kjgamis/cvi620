{
 "cells": [
  {
   "cell_type": "code",
   "execution_count": null,
   "metadata": {},
   "outputs": [
    {
     "ename": "",
     "evalue": "",
     "output_type": "error",
     "traceback": [
      "\u001b[1;31mThe Kernel crashed while executing code in the current cell or a previous cell. \n",
      "\u001b[1;31mPlease review the code in the cell(s) to identify a possible cause of the failure. \n",
      "\u001b[1;31mClick <a href='https://aka.ms/vscodeJupyterKernelCrash'>here</a> for more info. \n",
      "\u001b[1;31mView Jupyter <a href='command:jupyter.viewOutput'>log</a> for further details."
     ]
    }
   ],
   "source": [
    "import cv2\n",
    "import numpy as np\n",
    "\n",
    "# img = cv2.imread('S9_Noisy_Image.jpg')\n",
    "img = cv2.imread('S9_Lambo.png')\n",
    "rows, cols = img.shape[:2]\n",
    "\n",
    "# Kernel Blurring using filter2D()\n",
    "kernel_25 = np.ones((25,25), np.float32) / 625.0\n",
    "output_kernel = cv2.filter2D(img, -1, kernel_25)\n",
    "\n",
    "# Boxfilter and blur function blurring\n",
    "output_blur = cv2.blur(img, (25,25))\n",
    "output_box = cv2.boxFilter(img, -1, (5,5), normalize=True)\n",
    "\n",
    "# gaussian Blur \n",
    "output_gaus = cv2.GaussianBlur(img, (5,5), 0)\n",
    "\n",
    "# median Bur (reduction of noise)\n",
    "output_med = cv2.medianBlur(img, 5)\n",
    "\n",
    "# Bilateral filtering (Reduction of noise + Preserving of edges)\n",
    "output_bil = cv2.bilateralFilter(img, 5, 6, 6)\n",
    "\n",
    "\n",
    "cv2.putText(img, \"Original\", org=(20,40), fontFace=cv2.FONT_HERSHEY_PLAIN, fontScale= 2, color=(255,0,255) )\n",
    "cv2.putText(output_kernel, \"kernel blur\", org=(20,40), fontFace=cv2.FONT_HERSHEY_PLAIN, fontScale= 2 , color=(255,0,255))\n",
    "cv2.putText(output_blur, \"Blur() output\", org=(20,40), fontFace=cv2.FONT_HERSHEY_PLAIN, fontScale= 2 , color=(255,0,255))\n",
    "cv2.putText(output_box, \"output_box\", org=(20,40), fontFace=cv2.FONT_HERSHEY_PLAIN, fontScale= 2 , color=(255,0,255))\n",
    "cv2.putText(output_gaus, \"Gaussian\", org=(20,40), fontFace=cv2.FONT_HERSHEY_PLAIN, fontScale= 2 , color=(255,0,255))\n",
    "cv2.putText(output_bil, \"Bilateral\", org=(20,40), fontFace=cv2.FONT_HERSHEY_PLAIN, fontScale= 2 , color=(255,0,255))\n",
    "cv2.putText(output_med, \"Median Blur\", org=(20,40), fontFace=cv2.FONT_HERSHEY_PLAIN, fontScale= 2 , color=(255,0,255))\n",
    "\n",
    "img1_3 = np.hstack((img,img, output_kernel, output_blur))\n",
    "img2_3 = np.hstack((output_box, output_gaus,output_bil,output_med))\n",
    " \n",
    "img3_6 = np.vstack((img1_3,img2_3))\n",
    " \n",
    "cv2.imshow(\"1 original and 5 Blur Image\", img3_6)\n",
    "cv2.waitKey(0)\n",
    "cv2.destroyAllWindows()"
   ]
  },
  {
   "cell_type": "code",
   "execution_count": null,
   "metadata": {},
   "outputs": [],
   "source": []
  }
 ],
 "metadata": {
  "kernelspec": {
   "display_name": "cvi620_env",
   "language": "python",
   "name": "python3"
  },
  "language_info": {
   "codemirror_mode": {
    "name": "ipython",
    "version": 3
   },
   "file_extension": ".py",
   "mimetype": "text/x-python",
   "name": "python",
   "nbconvert_exporter": "python",
   "pygments_lexer": "ipython3",
   "version": "3.13.3"
  }
 },
 "nbformat": 4,
 "nbformat_minor": 2
}
