{
 "cells": [
  {
   "cell_type": "markdown",
   "id": "1f4dcdc2",
   "metadata": {},
   "source": [
    "# Python Exercise for Beginners"
   ]
  },
  {
   "cell_type": "markdown",
   "id": "c3c6c215",
   "metadata": {},
   "source": [
    "#### 1. Write a program that prints your full name and your favorite hobby."
   ]
  },
  {
   "cell_type": "code",
   "execution_count": null,
   "id": "de4deae4",
   "metadata": {},
   "outputs": [],
   "source": [
    "# print name and fav hobby\n",
    "print(\"My name is Karen Gamis, but I go by Kage\")\n",
    "print(\"My favorite hobby is dancing\")"
   ]
  },
  {
   "cell_type": "markdown",
   "id": "cb1696cc",
   "metadata": {},
   "source": [
    "#### 2. Variables\n",
    "Define a variable age with your age.<br>\n",
    "Define a variable height in centimeters.<br>\n",
    "Print both in a complete sentence like:<br>"
   ]
  },
  {
   "cell_type": "code",
   "execution_count": null,
   "id": "793821c1",
   "metadata": {},
   "outputs": [],
   "source": [
    "age = 28\n",
    "height = 1.65\n",
    "\n",
    "print(\"I am %d years old and %.2f meters tall\" % (age, height))"
   ]
  },
  {
   "cell_type": "markdown",
   "id": "6e332174",
   "metadata": {},
   "source": [
    "#### 3. Arithemtic Operations<br>\n",
    "Create two variables a = 15 and b = 4.<br>\n",
    "Compute and print:<br>\n",
    "Sum<br>\n",
    "Difference<br>\n",
    "Product<br>\n",
    "Quotient<br>\n",
    "Remainder"
   ]
  },
  {
   "cell_type": "code",
   "execution_count": 4,
   "id": "c036a41b",
   "metadata": {},
   "outputs": [
    {
     "name": "stdout",
     "output_type": "stream",
     "text": [
      "Sum: 19\n",
      "Difference: 11\n",
      "Product: 60\n",
      "Quotient: 3.75\n",
      "Remainder: 3\n"
     ]
    }
   ],
   "source": [
    "a = 15\n",
    "b = 4\n",
    "\n",
    "sum_result = a + b\n",
    "diff_result = a - b\n",
    "prod_result = a * b\n",
    "quot_result = a / b\n",
    "rem_result = a % b\n",
    "\n",
    "print(f\"Sum: {sum_result}\")\n",
    "print(f\"Difference: {diff_result}\")\n",
    "print(f\"Product: {prod_result}\")\n",
    "print(f\"Quotient: {quot_result}\")\n",
    "print(f\"Remainder: {rem_result}\")"
   ]
  },
  {
   "cell_type": "markdown",
   "id": "3f7be8f8",
   "metadata": {},
   "source": [
    "#### 4. Ask the user for a number and check if it’s positive, negative, or zero."
   ]
  },
  {
   "cell_type": "code",
   "execution_count": 7,
   "id": "3ef1c3a9",
   "metadata": {},
   "outputs": [
    {
     "name": "stdout",
     "output_type": "stream",
     "text": [
      "enter a number\n",
      "The number is odd\n"
     ]
    }
   ],
   "source": [
    "print(\"enter a number\")\n",
    "\n",
    "num = int(input())\n",
    "if num % 2 == 0:\n",
    "    print(\"The number is even\")\n",
    "else:\n",
    "    print(\"The number is odd\")"
   ]
  },
  {
   "cell_type": "markdown",
   "id": "3e662645",
   "metadata": {},
   "source": [
    "#### 5. Write a for loop that prints numbers from 1 to 10.\n"
   ]
  },
  {
   "cell_type": "code",
   "execution_count": 2,
   "id": "4140e835",
   "metadata": {},
   "outputs": [
    {
     "name": "stdout",
     "output_type": "stream",
     "text": [
      "1\n",
      "2\n",
      "3\n",
      "4\n",
      "5\n",
      "6\n",
      "7\n",
      "8\n",
      "9\n",
      "10\n"
     ]
    }
   ],
   "source": [
    "for i in range(1, 11):\n",
    "    print(i)"
   ]
  },
  {
   "cell_type": "markdown",
   "id": "56fb64f9",
   "metadata": {},
   "source": [
    "#### 6. Write a while loop that counts down from 5 to 1 and then prints \"Liftoff!\""
   ]
  },
  {
   "cell_type": "code",
   "execution_count": 2,
   "id": "7c13e82d",
   "metadata": {},
   "outputs": [
    {
     "name": "stdout",
     "output_type": "stream",
     "text": [
      "5\n",
      "4\n",
      "3\n",
      "2\n",
      "1\n",
      "Lift off!\n"
     ]
    }
   ],
   "source": [
    "i = 5\n",
    "while i > 0:\n",
    "    print(i)\n",
    "    i -= 1\n",
    "\n",
    "print(\"Liftoff!\")"
   ]
  },
  {
   "cell_type": "markdown",
   "id": "a95798d1",
   "metadata": {},
   "source": [
    "#### 7. Functions\n",
    "Write a function square(x) that returns the square of a number.<br>\n",
    "Call this function for values 2, 5, and -3."
   ]
  },
  {
   "cell_type": "code",
   "execution_count": 5,
   "id": "e4c854fc",
   "metadata": {},
   "outputs": [
    {
     "name": "stdout",
     "output_type": "stream",
     "text": [
      "4\n",
      "25\n",
      "9\n"
     ]
    }
   ],
   "source": [
    "def square(x):\n",
    "    return x * x\n",
    "\n",
    "print(square(2))\n",
    "print(square(5))\n",
    "print(square(-3))"
   ]
  },
  {
   "cell_type": "markdown",
   "id": "0fa41925",
   "metadata": {},
   "source": [
    "#### 8. Lists\n",
    "Create a list of five fruits.<br>\n",
    "\n",
    "Print:<br>\n",
    "The first fruit<br>\n",
    "The last fruit<br>\n",
    "The list sorted alphabetically<br>"
   ]
  },
  {
   "cell_type": "code",
   "execution_count": 7,
   "id": "3a799d07",
   "metadata": {},
   "outputs": [
    {
     "name": "stdout",
     "output_type": "stream",
     "text": [
      "apple\n",
      "kiwi\n",
      "['apple', 'banana', 'blueberry', 'kiwi', 'mango']\n"
     ]
    }
   ],
   "source": [
    "fruits = [\"apple\", \"banana\", \"mango\", \"blueberry\", \"kiwi\"]\n",
    "\n",
    "print(fruits[0])\n",
    "print(fruits[-1])\n",
    "\n",
    "fruits.sort()\n",
    "\n",
    "print(fruits)"
   ]
  },
  {
   "cell_type": "markdown",
   "id": "277c895b",
   "metadata": {},
   "source": [
    "#### 9. Write a program that:\n",
    "\n",
    "Asks the user to input a temperature in Celsius<br>\n",
    "Converts it to Fahrenheit<br>\n",
    "Prints the result<br>"
   ]
  },
  {
   "cell_type": "code",
   "execution_count": 1,
   "id": "4ec27e61",
   "metadata": {},
   "outputs": [
    {
     "name": "stdout",
     "output_type": "stream",
     "text": [
      "Enter a temperature in Celsius:\n",
      "Temperature in Fahrenheit: 68.0\n"
     ]
    }
   ],
   "source": [
    "print(\"Enter a temperature in Celsius:\")\n",
    "temp_c = float(input())\n",
    "temp_f = (temp_c * 9/5) + 32\n",
    "print(\"Temperature in Fahrenheit:\", temp_f)"
   ]
  },
  {
   "cell_type": "markdown",
   "id": "cb86b467",
   "metadata": {},
   "source": [
    "#### 10. Tuples\n",
    "Create a tuple named person containing your name, age, and country.<br>\n",
    "Print each item using indexing.<br>\n",
    "Try to change the age. What happens? Explain in a comment."
   ]
  },
  {
   "cell_type": "code",
   "execution_count": null,
   "id": "3c3c6f72",
   "metadata": {},
   "outputs": [],
   "source": [
    "person_tuple = (\"Jane\", 30, \"Canada\")\n",
    "\n",
    "# print using indexing\n",
    "print(\"Name:\", person_tuple[0])\n",
    "print(\"Age:\", person_tuple[1])\n",
    "print(\"Country:\", person_tuple[2])\n"
   ]
  },
  {
   "cell_type": "markdown",
   "id": "8dd861ae",
   "metadata": {},
   "source": [
    "#### 11. Sets\n",
    "- Create a set of your three favorite colors.<br>\n",
    "- Add a new color.<br>\n",
    "- Try adding a duplicate color and observe what happens.<br>\n",
    "- Remove one color from the set."
   ]
  },
  {
   "cell_type": "code",
   "execution_count": null,
   "id": "06c11d87",
   "metadata": {},
   "outputs": [
    {
     "name": "stdout",
     "output_type": "stream",
     "text": [
      "{'blue', 'black', 'red', 'white'}\n",
      "{'blue', 'black', 'white'}\n"
     ]
    }
   ],
   "source": [
    "fave_colors = {\"red\", \"black\", \"white\"}\n",
    "\n",
    "fave_colors.add(\"blue\")\n",
    "\n",
    "# duplicate color\n",
    "fave_colors.add(\"red\")\n",
    "\n",
    "print(fave_colors)\n",
    "\n",
    "# remove a color\n",
    "fave_colors.remove(\"red\")\n",
    "\n",
    "print(fave_colors)"
   ]
  },
  {
   "cell_type": "markdown",
   "id": "884c7dc9",
   "metadata": {},
   "source": [
    "#### 12. Set Operations\n",
    "Given two sets:<br>\n",
    "a = {1, 2, 3, 4},\n",
    "b = {3, 4, 5, 6}<br>\n",
    "<br>\n",
    "Find the union<br>\n",
    "Find the intersection<br>\n",
    "Find the difference a - b and b - a\n",
    "\n"
   ]
  },
  {
   "cell_type": "code",
   "execution_count": 12,
   "id": "4ca8d341",
   "metadata": {},
   "outputs": [
    {
     "name": "stdout",
     "output_type": "stream",
     "text": [
      "Union of a and b: {1, 2, 3, 4, 5, 6}\n",
      "Intersection of a and b: {3, 4}\n",
      "Difference of a and b: {1, 2}\n"
     ]
    }
   ],
   "source": [
    "a = {1, 2, 3, 4}\n",
    "b = {3, 4, 5, 6}\n",
    "# union of a and b\n",
    "c = a.union(b)\n",
    "print(\"Union of a and b:\", c)\n",
    "# intersection of a and b\n",
    "d = a.intersection(b)\n",
    "print(\"Intersection of a and b:\", d)\n",
    "# difference of a and b\n",
    "e = a.difference(b)\n",
    "print(\"Difference of a and b:\", e)"
   ]
  },
  {
   "cell_type": "markdown",
   "id": "7ab0dfe8",
   "metadata": {},
   "source": [
    "#### 13. Dictionaries\n",
    "- Create a dictionary named student with keys: name, age, grade<br>\n",
    "- Print each key and value<br>\n",
    "- Add a new key email<br>\n",
    "- Update the grade"
   ]
  },
  {
   "cell_type": "code",
   "execution_count": 13,
   "id": "0744a480",
   "metadata": {},
   "outputs": [
    {
     "name": "stdout",
     "output_type": "stream",
     "text": [
      "Name: John\n",
      "Age: 20\n",
      "Grade: B\n",
      "Updated student info:\n",
      "Name: John\n",
      "Age: 20\n",
      "Grade: A\n"
     ]
    }
   ],
   "source": [
    "# dictionary of student with name, age, and grade\n",
    "student = {\n",
    "    \"name\": \"John\",\n",
    "    \"age\": 20,\n",
    "    \"grade\": \"B\"\n",
    "}\n",
    "# print using keys\n",
    "print(\"Name:\", student[\"name\"])\n",
    "print(\"Age:\", student[\"age\"])\n",
    "print(\"Grade:\", student[\"grade\"])\n",
    "# add a new key-value pair\n",
    "student[\"email\"] = \"john@example.com\"\n",
    "# update the grade\n",
    "student[\"grade\"] = \"A\"\n",
    "\n",
    "print(\"Updated student info:\")\n",
    "print(\"Name:\", student[\"name\"])\n",
    "print(\"Age:\", student[\"age\"])\n",
    "print(\"Grade:\", student[\"grade\"])"
   ]
  },
  {
   "cell_type": "markdown",
   "id": "2007c279",
   "metadata": {},
   "source": [
    "#### 14. Dictionary Iteration\n",
    "Given scores = {'Math': 80, 'Science': 90, 'English': 85},<br>\n",
    "Loop through the dictionary and print:\n",
    "\"In 'subject', the score is 'value'.\"<br>\n",
    "\n",
    "Calculate and print the average score"
   ]
  },
  {
   "cell_type": "code",
   "execution_count": 14,
   "id": "58e822fb",
   "metadata": {},
   "outputs": [
    {
     "name": "stdout",
     "output_type": "stream",
     "text": [
      "In subject Math the score is 80\n",
      "In subject Science the score is 90\n",
      "In subject English the score is 85\n"
     ]
    }
   ],
   "source": [
    "score = { \"Math\": 80, \"Science\": 90, \"English\": 85 }\n",
    "\n",
    "# loop through the dictionary\n",
    "for subject, marks in score.items():\n",
    "  print(\"In subject\", subject, \"the score is\", marks)"
   ]
  },
  {
   "cell_type": "markdown",
   "id": "0de2dd4e",
   "metadata": {},
   "source": [
    "#### 15. Nested Dictionaries\n",
    "Create a dictionary to store information about two students:<br>\n",
    "\n",
    "students = {\n",
    "    'Ava': {'age': 20, 'major': 'CS'},\n",
    "    'Leo': {'age': 22, 'major': 'Math'}\n",
    "}<br>\n",
    "- Print Ava's major<br>\n",
    "- Add a new student<br>\n",
    "- Change Leo’s age to 23"
   ]
  },
  {
   "cell_type": "code",
   "execution_count": 15,
   "id": "88a7dccd",
   "metadata": {},
   "outputs": [
    {
     "name": "stdout",
     "output_type": "stream",
     "text": [
      "Ava's major: CS\n",
      "Name: Ava, Age: 20, Major: CS\n",
      "Name: Leo, Age: 23, Major: Math\n",
      "Name: Mia, Age: 21, Major: Biology\n"
     ]
    }
   ],
   "source": [
    "students = {\n",
    "    'Ava': {'age': 20, 'major': 'CS'},\n",
    "    'Leo': {'age': 22, 'major': 'Math'}\n",
    "}\n",
    "\n",
    "# print ava's major\n",
    "print(\"Ava's major:\", students['Ava']['major'])\n",
    "\n",
    "# add new student\n",
    "students['Mia'] = {'age': 21, 'major': 'Biology'}\n",
    "\n",
    "# change leo's age to 23\n",
    "students['Leo']['age'] = 23\n",
    "\n",
    "# print all students\n",
    "for name, info in students.items():\n",
    "    print(f\"Name: {name}, Age: {info['age']}, Major: {info['major']}\")"
   ]
  },
  {
   "cell_type": "markdown",
   "id": "0754c96c",
   "metadata": {},
   "source": [
    "#### 16. Write a program that:\n",
    "\n",
    "- Takes a sentence from the user<br>\n",
    "- Splits it into words<br>\n",
    "- Creates a dictionary with the frequency of each word"
   ]
  },
  {
   "cell_type": "code",
   "execution_count": 6,
   "id": "eeb3a40d",
   "metadata": {},
   "outputs": [
    {
     "name": "stdout",
     "output_type": "stream",
     "text": [
      "Enter a sentence:\n",
      "Word frequency: {'this': 2, 'is': 2, 'the': 2, 'real': 1, 'world': 2, 'input': 1, 'dog': 1}\n"
     ]
    }
   ],
   "source": [
    "print(\"Enter a sentence:\")\n",
    "sentence = input()\n",
    "words = sentence.split()\n",
    "word_count = {}\n",
    "for word in words:\n",
    "    if word in word_count:\n",
    "        word_count[word] += 1\n",
    "    else:\n",
    "        word_count[word] = 1\n",
    "print(\"Word frequency:\", word_count)"
   ]
  },
  {
   "cell_type": "markdown",
   "id": "32bbd24f",
   "metadata": {},
   "source": [
    "## Great Job!"
   ]
  }
 ],
 "metadata": {
  "kernelspec": {
   "display_name": "cvi620_env",
   "language": "python",
   "name": "python3"
  },
  "language_info": {
   "codemirror_mode": {
    "name": "ipython",
    "version": 3
   },
   "file_extension": ".py",
   "mimetype": "text/x-python",
   "name": "python",
   "nbconvert_exporter": "python",
   "pygments_lexer": "ipython3",
   "version": "3.13.3"
  }
 },
 "nbformat": 4,
 "nbformat_minor": 5
}
